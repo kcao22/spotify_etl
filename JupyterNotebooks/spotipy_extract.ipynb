{
 "cells": [
  {
   "cell_type": "code",
   "execution_count": 1,
   "metadata": {},
   "outputs": [],
   "source": [
    "import base64  # For converting to base64\n",
    "import pandas as pd\n",
    "import psycopg2 as pg2\n",
    "import pyspark\n",
    "from pyspark.sql import SparkSession\n",
    "import requests\n",
    "import time\n",
    "import webbrowser\n",
    "\n",
    "from urllib.parse import urlencode"
   ]
  },
  {
   "cell_type": "code",
   "execution_count": 2,
   "metadata": {},
   "outputs": [],
   "source": [
    "# ID & Secret file\n",
    "api_info = pd.read_excel('../logins.xlsx')"
   ]
  },
  {
   "cell_type": "code",
   "execution_count": 6,
   "metadata": {},
   "outputs": [],
   "source": [
    "def request_user_auth(**kwargs):\n",
    "    '''\n",
    "    Requests authorization to access user's Spotify \"app\". Opens redirect_uri with code in url. Code is used for requesting authorization token. For example, given a redirect_uri of \"http://localhost:7777/callback\", a sucessful authorization request will open page 'http://localhost:7777/callback/code=XXXXX', with XXXX being the authorization code.  \n",
    "    \n",
    "    ARGUMENTS:\n",
    "        keyword arguments, pass in the following keys:\n",
    "            client_id: Spotify API project client id\n",
    "            client_secret: Spotify API project client secret\n",
    "            redirect_uri: Redirect url for obtaining authorization code\n",
    "            scope: Scope of access\n",
    "    '''\n",
    "    webbrowser.open('https://accounts.spotify.com/authorize?' + urlencode(kwargs))"
   ]
  },
  {
   "cell_type": "code",
   "execution_count": 5,
   "metadata": {},
   "outputs": [],
   "source": [
    "def encode_project_info(client_id, client_secret):\n",
    "    '''\n",
    "    Encodes string according to spotify web API documentation. \"Basic + client_id:client_secret.\n",
    "\n",
    "    ARGUMENTS:\n",
    "        client_id: Client ID from Spotify API project session.\n",
    "        client_secret: Client secret from Spotify API project session.\n",
    "    '''\n",
    "    encoded_client_info = client_id.encode() + b':' + client_secret.encode()\n",
    "    return 'Basic ' + base64.b64encode(encoded_client_info).decode('utf-8')"
   ]
  },
  {
   "cell_type": "code",
   "execution_count": 7,
   "metadata": {},
   "outputs": [],
   "source": [
    "def request_access_token(grant_type, code, redirect_uri, encoded_authorization, content_type):\n",
    "    '''\n",
    "    Exchanges the authorization code retrieved from requesting user access for an authentication token.\n",
    "\n",
    "    ARGUMENTS:\n",
    "        grant_type: Authorization token grant method \n",
    "        code: The auth code retrieved from request user auth for auth token exchange\n",
    "        redirect_uri: Redirect URL according to spotify \"app\" redirect url\n",
    "        encoded_authorization: Encoded client ID and secret according to Spotify documentation.\n",
    "        content_type: \"application/x-www-form-urlencoded\" as required by Spotify\n",
    "    '''\n",
    "    # Request access token\n",
    "    token_data = {\n",
    "        'grant_type': grant_type,\n",
    "        'code': code,\n",
    "        'redirect_uri': redirect_uri\n",
    "    }\n",
    "\n",
    "    token_headers = {\n",
    "        'Authorization': encoded_authorization,\n",
    "        'Content-Type': content_type\n",
    "    }\n",
    "    \n",
    "    # API token url, post request to /api/token endpoint\n",
    "    return requests.post('https://accounts.spotify.com/api/token', data=token_data, headers=token_headers).json()"
   ]
  },
  {
   "cell_type": "code",
   "execution_count": 15,
   "metadata": {},
   "outputs": [],
   "source": [
    "def get_recent_played_tracks(access_token):\n",
    "    '''\n",
    "    Uses access token to request most recently played songs from user.\n",
    "\n",
    "    ARGUMENTS:    \n",
    "      access_token: Access token for requesting access to user's Spotify information. \n",
    "    '''\n",
    "    recent_songs_headers = {\n",
    "    'Content-Type': 'application/json',\n",
    "    'Authorization': 'Bearer ' + access_token\n",
    "    }\n",
    "\n",
    "    return requests.get('https://api.spotify.com/v1/me/player/recently-played?limit=50', headers=recent_songs_headers).json()"
   ]
  },
  {
   "cell_type": "code",
   "execution_count": 16,
   "metadata": {},
   "outputs": [
    {
     "data": {
      "text/plain": [
       "{'error': {'status': 403, 'message': 'Insufficient client scope'}}"
      ]
     },
     "execution_count": 16,
     "metadata": {},
     "output_type": "execute_result"
    }
   ],
   "source": [
    "get_recent_played_tracks(token)"
   ]
  },
  {
   "cell_type": "code",
   "execution_count": 10,
   "metadata": {},
   "outputs": [],
   "source": [
    "client_id = api_info['client_id'][0]\n",
    "client_secret = api_info['client_secret'][0]\n",
    "redirect_uri = 'http://localhost:7777/callback'\n",
    "response_type = 'code'\n",
    "scope = 'user-read-recently-played'\n",
    "\n",
    "request_user_auth(client_id=client_id, client_secret=client_secret, redirect_uri=redirect_uri, response_type=response_type, scope=scope)"
   ]
  },
  {
   "cell_type": "code",
   "execution_count": 11,
   "metadata": {},
   "outputs": [],
   "source": [
    "# From redirect uri; save authorization code\n",
    "code = 'AQDVo-EJB4fkEhvRRSi9xyiT9yd5trXMqk1PgXrNx-3QGPWUEO_5UivguZT8euwH31PEJ_kluk943iMniWW0yOq6u2AZzMXpH1794xOqmk876uHbSuNO5ZHKo26EuRCRS7h03JYdtQqvZIB2QfQa-jHV7TTseR_2-k3OO0cVO6vTjvi9FzN3G0PisLm88PrWUcFwiw6z00uV4lNKQg'"
   ]
  },
  {
   "cell_type": "code",
   "execution_count": 12,
   "metadata": {},
   "outputs": [],
   "source": [
    "r = request_access_token(grant_type='authorization_code', code=code, redirect_uri=redirect_uri, encoded_authorization=encode_project_info(client_id, client_secret), content_type='application/x-www-form-urlencoded')"
   ]
  },
  {
   "cell_type": "code",
   "execution_count": 31,
   "metadata": {},
   "outputs": [],
   "source": [
    "token = r['access_token']\n",
    "recent_songs_request = get_recent_played_tracks(token)"
   ]
  },
  {
   "cell_type": "code",
   "execution_count": 42,
   "metadata": {},
   "outputs": [
    {
     "data": {
      "text/plain": [
       "'6QX9efMZlYa0HQic1iO3PX'"
      ]
     },
     "execution_count": 42,
     "metadata": {},
     "output_type": "execute_result"
    }
   ],
   "source": [
    "recent_songs_request['items'][0]['track']['album']['id']"
   ]
  },
  {
   "cell_type": "code",
   "execution_count": 34,
   "metadata": {},
   "outputs": [],
   "source": [
    "# artist_headers = {\n",
    "# 'Content-Type': 'application/json',\n",
    "# 'Authorization': 'Bearer ' + token\n",
    "# }\n",
    "# artist_info = requests.get('https://api.spotify.com/v1/artists/5na1LmEmK2VzNLje9snJYW', headers=artist_headers).json()\n"
   ]
  },
  {
   "cell_type": "code",
   "execution_count": 39,
   "metadata": {},
   "outputs": [
    {
     "data": {
      "text/plain": [
       "65"
      ]
     },
     "execution_count": 39,
     "metadata": {},
     "output_type": "execute_result"
    }
   ],
   "source": [
    "# # artist_followers = artist_info['followers']['total']\n",
    "# artist_popularity = artist_info['popularity']"
   ]
  },
  {
   "cell_type": "code",
   "execution_count": 43,
   "metadata": {},
   "outputs": [],
   "source": [
    "# album_headers = {\n",
    "# 'Content-Type': 'application/json',\n",
    "# 'Authorization': 'Bearer ' + token\n",
    "# }\n",
    "# album_info = requests.get('https://api.spotify.com/v1/albums/6QX9efMZlYa0HQic1iO3PX', headers=album_headers).json()"
   ]
  },
  {
   "cell_type": "code",
   "execution_count": null,
   "metadata": {},
   "outputs": [],
   "source": [
    "# def create_rdd_tables():\n",
    "#     'Creates resilient distributed datasets and populates tables with the maximum number of most recent songs played by Spotify user into three tables. '"
   ]
  },
  {
   "cell_type": "code",
   "execution_count": null,
   "metadata": {},
   "outputs": [],
   "source": []
  },
  {
   "cell_type": "code",
   "execution_count": null,
   "metadata": {},
   "outputs": [],
   "source": [
    "\n",
    "# fact table stuff\n",
    "    # track_id = recent_songs_request['items'][i]['track']['id]\n",
    "    # artist_id = recent_songs_request['items'][i]['track']['album']['artists'][0]['id']\n",
    "    # album_id = recent_songs_request['items'][i]['track']['album']['id']\n",
    "    # track_name = recent_songs_request['items'][i]['track']['name']\n",
    "    # track_uri = recent_songs_request['items'][i]['track']['uri']\n",
    "    # track_length_ms = recent_songs_request['items'][i]['track']['duration_ms']\n",
    "    # track_popularity = recent_songs_request['items'][i]['track']['popularity']\n",
    "    # played_at = recent_songs_request['items'][0][]'played_at']\n",
    "\n",
    "# artist stuff\n",
    "    # artist_id = recent_songs_request['items'][i]['track']['album']['artists'][0]['id']\n",
    "    # artist_name = recent_songs_request['items'][i]['track']['album']['artists'][0]['name']\n",
    "    # artist_url = recent_songs_request['items'][i]['track']['artists'][0]['uri']\n",
    "    # artist_info_requests = requests.get('https://api.spotify.com/v1/artists/5na1LmEmK2VzNLje9snJYW', headers=artist_headers).json()\n",
    "    # artist_followers = artist_info['followers']['total']\n",
    "    # artist_popularity = artist_info['popularity']\n",
    "\n",
    "\n",
    "# album stuff \n",
    "    # album_id = recent_songs_request['items'][i]['track']['album']['id']\n",
    "    # album_name = recent_songs_request['items'][i]['track']['album']['name']\n",
    "    # album_url = recent_songs_request['items'][i]['track']['album']['uri']\n",
    "    # album_info = requests.get('https://api.spotify.com/v1/albums/6QX9efMZlYa0HQic1iO3PX', headers=album_headers).json()\n",
    "    # album_popularity = album_info['popularity']\n",
    "    # album_total_tracks = recent_songs_request['items'][i]['track']['album']['total_tracks']\n",
    "    # album_release_date = recent_songs_request['items'][i]['track']['album']['release_date']\n",
    "\n",
    "# \n",
    "# functions for transforming extracted data or use sql stored procedure to change this\n",
    "    # if album, track, or artist then concatenate\n",
    "    # 'open.spotify.com/' + '{type_of_data}/' + album/song/track_uri.split(':')[-1]\n",
    "    # date time needs to be \n",
    "\n",
    "\n",
    "# within items []\n",
    "# id -> song id\n",
    "# name -> band name \n",
    "# json file format hierarchy\n",
    "#   items -> track -> album / artists "
   ]
  },
  {
   "cell_type": "code",
   "execution_count": null,
   "metadata": {},
   "outputs": [
    {
     "ename": "AttributeError",
     "evalue": "module 'pyspark' has no attribute 'Session'",
     "output_type": "error",
     "traceback": [
      "\u001b[1;31m---------------------------------------------------------------------------\u001b[0m",
      "\u001b[1;31mAttributeError\u001b[0m                            Traceback (most recent call last)",
      "Cell \u001b[1;32mIn[35], line 1\u001b[0m\n\u001b[1;32m----> 1\u001b[0m spark \u001b[39m=\u001b[39m pyspark\u001b[39m.\u001b[39;49mSession\u001b[39m.\u001b[39mbuilder\u001b[39m.\u001b[39mmaster(\u001b[39m'\u001b[39m\u001b[39mlocal[4]\u001b[39m\u001b[39m'\u001b[39m) \\\n\u001b[0;32m      2\u001b[0m                        \u001b[39m.\u001b[39mappName(\u001b[39m'\u001b[39m\u001b[39mspotipy_etl\u001b[39m\u001b[39m'\u001b[39m) \\\n\u001b[0;32m      3\u001b[0m                         \u001b[39m.\u001b[39mgetOrCreate()\n",
      "\u001b[1;31mAttributeError\u001b[0m: module 'pyspark' has no attribute 'Session'"
     ]
    }
   ],
   "source": [
    "spark = pyspark.Session.builder.master('local[4]') \\\n",
    "                       .appName('spotipy_etl') \\\n",
    "                        .getOrCreate()"
   ]
  },
  {
   "cell_type": "code",
   "execution_count": null,
   "metadata": {},
   "outputs": [],
   "source": []
  }
 ],
 "metadata": {
  "kernelspec": {
   "display_name": "spotipy_etl",
   "language": "python",
   "name": "python3"
  },
  "language_info": {
   "codemirror_mode": {
    "name": "ipython",
    "version": 3
   },
   "file_extension": ".py",
   "mimetype": "text/x-python",
   "name": "python",
   "nbconvert_exporter": "python",
   "pygments_lexer": "ipython3",
   "version": "3.9.16"
  },
  "orig_nbformat": 4,
  "vscode": {
   "interpreter": {
    "hash": "5279c6fe171b71c479f9decce1e7e70192a43dd17f9c062e3597a4c4186e60e8"
   }
  }
 },
 "nbformat": 4,
 "nbformat_minor": 2
}
