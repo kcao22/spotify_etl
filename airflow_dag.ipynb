{
 "cells": [
  {
   "cell_type": "code",
   "execution_count": 2,
   "metadata": {},
   "outputs": [],
   "source": [
    "import time\n",
    "import datetime \n",
    "from airflow.models.dag import DAG\n",
    "from airflow.decorators import task\n",
    "from airflow.utils.task_group import TaskGroup\n",
    "from airflow.hooks.base import BaseHook\n",
    "import pandas as pd\n",
    "from sqlalchemy import create_engine\n",
    "import psycopg2"
   ]
  },
  {
   "cell_type": "code",
   "execution_count": 4,
   "metadata": {},
   "outputs": [],
   "source": [
    "# ID & Secret file\n",
    "credentials = pd.read_excel('../logins.xlsx')\n",
    "\n",
    "# Spotify project access credentials\n",
    "session_client_id = credentials['client_id'][0]\n",
    "session_client_secret = credentials['client_secret'][0]\n",
    "session_redirect_url = 'http://localhost:7777/callback'\n",
    "session_scope ='user-read-recently-played'\n",
    "\n",
    "\n",
    "# PostgreSQL access credentials\n",
    "hostname = credentials['hostname'][0]\n",
    "database = credentials['database'][0]\n",
    "username = credentials['username'][0]\n",
    "pwd = credentials['pwd'][0]\n",
    "port_id = credentials['port_id'][0]"
   ]
  },
  {
   "cell_type": "code",
   "execution_count": null,
   "metadata": {},
   "outputs": [],
   "source": []
  }
 ],
 "metadata": {
  "kernelspec": {
   "display_name": "spotipy_etl",
   "language": "python",
   "name": "python3"
  },
  "language_info": {
   "codemirror_mode": {
    "name": "ipython",
    "version": 3
   },
   "file_extension": ".py",
   "mimetype": "text/x-python",
   "name": "python",
   "nbconvert_exporter": "python",
   "pygments_lexer": "ipython3",
   "version": "3.9.16"
  },
  "orig_nbformat": 4
 },
 "nbformat": 4,
 "nbformat_minor": 2
}
