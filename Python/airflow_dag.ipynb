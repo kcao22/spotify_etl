{
 "cells": [
  {
   "cell_type": "code",
   "execution_count": 12,
   "metadata": {},
   "outputs": [],
   "source": [
    "from airflow import DAG\n",
    "from airflow.operators.python import PythonOperator\n",
    "import datetime\n",
    "\n",
    "import extract_helper_functions as ex\n",
    "import transform_data as tf\n",
    "import load_update_data as load\n",
    "import email_weekly_extracts as serve\n",
    "import pandas as pd\n",
    "import psycopg2"
   ]
  },
  {
   "cell_type": "code",
   "execution_count": 13,
   "metadata": {},
   "outputs": [],
   "source": [
    "def spotify_etl_wrapper():\n",
    "    '''\n",
    "    Wrapper function to consolidate Spotify ETL scripts. Created for cleaner DAG construction.\n",
    "\n",
    "    ARGUMENTS:\n",
    "        None\n",
    "    '''\n",
    "    # ID & Secret file\n",
    "    credentials = pd.read_excel('../../logins.xlsx')\n",
    "\n",
    "    # Spotify project access credentials\n",
    "    session_client_id = credentials['client_id'][0]\n",
    "    session_client_secret = credentials['client_secret'][0]\n",
    "    session_redirect_url = 'http://localhost:7777/callback'\n",
    "    session_scope ='user-read-recently-played'\n",
    "\n",
    "    # PostgreSQL access credentials\n",
    "    hostname = credentials['hostname'][0]\n",
    "    database = credentials['database'][0]\n",
    "    username = credentials['username'][0]\n",
    "    pwd = credentials['pwd'][0]\n",
    "    port_id = credentials['port_id'][0]\n",
    "\n",
    "    # Extract data process\n",
    "    sp = ex.create_spotipy_client(client_id=session_client_id, client_secret=session_client_secret, redirect_uri=session_redirect_url, scope=session_scope)\n",
    "\n",
    "    recent_tracks = ex.get_recent_played_tracks(sp, 50)\n",
    "\n",
    "    # Transform and load data process\n",
    "    play_log_fact_table, track_dim_table, artist_dim_table, album_dim_table = tf.create_dataframes(recent_tracks)\n",
    "\n",
    "    load.load_update_tables(play_log_fact_table, track_dim_table, artist_dim_table, album_dim_table, hostname, database, username, pwd, port_id)"
   ]
  },
  {
   "cell_type": "code",
   "execution_count": 14,
   "metadata": {},
   "outputs": [],
   "source": [
    "def email_wrapper():\n",
    "    '''\n",
    "    Wrapper function for generating weekly emails. Created for cleaner DAG construction\n",
    "    '''\n",
    "    # ID & Secret file\n",
    "    credentials = pd.read_excel('../../logins.xlsx')\n",
    "\n",
    "    # PostgreSQL access credentials\n",
    "    hostname = credentials['hostname'][0]\n",
    "    database = credentials['database'][0]\n",
    "    username = credentials['username'][0]\n",
    "    pwd = credentials['pwd'][0]\n",
    "    port_id = credentials['port_id'][0]\n",
    "    \n",
    "    # Email generation\n",
    "    serve.generate_weekly_email(credentials['email'][0], credentials['email'][0], credentials['email'][0], credentials['email_pwd'][0], hostname, database, username, pwd, port_id)"
   ]
  },
  {
   "cell_type": "code",
   "execution_count": 15,
   "metadata": {},
   "outputs": [],
   "source": [
    "# One DAG to run the ETL daily, one to run the email weekly\n",
    "# Weekly cron expression: 019**0 Every 7PM Sunday\n",
    "# Daily cron expression: 018*** Every 6PM\n",
    "# Daily DAG for extract, transform, load songs listened to data\n",
    "with DAG(\n",
    "        'spotify_etl', \n",
    "        start_date=datetime.datetime(2023, 3, 11), \n",
    "        schedule='018***',\n",
    "        catchup=False\n",
    "        ) as etl_dag:\n",
    "                extract_transform = PythonOperator(\n",
    "                        task_id='extract_transform',\n",
    "                        python_callable=spotify_etl_wrapper\n",
    "                )\n",
    "\n",
    "with DAG(\n",
    "        'weekly_email',\n",
    "        start_date=datetime.datetime(2023, 3, 11), \n",
    "        schedule='019**0',\n",
    "        catchup=False\n",
    "        ) as email_dag:\n",
    "                send_email = PythonOperator(\n",
    "                        task_id='send_email',\n",
    "                        python_callable=email_wrapper\n",
    "                )"
   ]
  }
 ],
 "metadata": {
  "kernelspec": {
   "display_name": "spotipy_etl",
   "language": "python",
   "name": "python3"
  },
  "language_info": {
   "codemirror_mode": {
    "name": "ipython",
    "version": 3
   },
   "file_extension": ".py",
   "mimetype": "text/x-python",
   "name": "python",
   "nbconvert_exporter": "python",
   "pygments_lexer": "ipython3",
   "version": "3.9.16"
  },
  "orig_nbformat": 4
 },
 "nbformat": 4,
 "nbformat_minor": 2
}
