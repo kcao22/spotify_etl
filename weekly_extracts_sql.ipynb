{
 "cells": [
  {
   "cell_type": "code",
   "execution_count": null,
   "metadata": {},
   "outputs": [],
   "source": [
    "import pandas as pd\n",
    "import psycopg2\n",
    "from sqlalchemy import create_engine"
   ]
  },
  {
   "cell_type": "code",
   "execution_count": null,
   "metadata": {},
   "outputs": [],
   "source": [
    "# ID & Secret file\n",
    "credentials = pd.read_excel('../logins.xlsx')\n",
    "\n",
    "# Spotify project access credentials\n",
    "session_client_id = credentials['client_id'][0]\n",
    "session_client_secret = credentials['client_secret'][0]\n",
    "session_redirect_url = 'http://localhost:7777/callback'\n",
    "session_scope ='user-read-recently-played'\n",
    "\n",
    "\n",
    "# PostgreSQL access credentials\n",
    "hostname = credentials['hostname'][0]\n",
    "database = credentials['database'][0]\n",
    "username = credentials['username'][0]\n",
    "pwd = credentials['pwd'][0]\n",
    "port_id = credentials['port_id'][0]"
   ]
  },
  {
   "cell_type": "code",
   "execution_count": null,
   "metadata": {},
   "outputs": [],
   "source": [
    "# Connecting to postgreSQL database\n",
    "\n",
    "# Instantiating connection as None to avoid errors with close if script executes incorrectly.\n",
    "conn = None\n",
    "\n",
    "# Create SQLAlchemy Engine for insert into database tables\n",
    "engine = create_engine(f'postgresql://{username}:{pwd}@{hostname}:{port_id}/{database}')\n",
    "\n",
    "# Creating connection object, opens database connection\n",
    "try:\n",
    "    with psycopg2.connect(\n",
    "        host=hostname,\n",
    "        dbname=database,\n",
    "        user=username,\n",
    "        password=pwd,\n",
    "        port=port_id\n",
    "    ) as conn:\n",
    "        # cursor for storing return values\n",
    "        with conn.cursor() as cur:  # Cursor closes at end of with statement block\n",
    "            # SQL injection for each table\n",
    "except Exception as error:\n",
    "    print(error)"
   ]
  },
  {
   "cell_type": "code",
   "execution_count": null,
   "metadata": {},
   "outputs": [],
   "source": [
    "\n",
    "\n",
    "# -- Total time listening to Spotify\n",
    "\n",
    "# -- Most popular songs played by track popularity\n",
    "\n",
    "# -- Most popular artists by popularity\n",
    "\n",
    "# -- Most popular albums by popularity\n",
    "\n",
    "# -- Most frequently played songs\n",
    "\n",
    "# -- Most frequently played artist\n",
    "\n",
    "# -- Most frequently played album\n",
    "\n",
    "# -- Artist played with the most followers\n",
    "\n",
    "# -- Day of the week with most songs played or just number of songs played by day\n",
    "\n",
    "# -- Top 5 weekly songs by duration time\n",
    "\n",
    "# -- Number of songs played by decade of release date\n"
   ]
  }
 ],
 "metadata": {
  "language_info": {
   "name": "python"
  },
  "orig_nbformat": 4
 },
 "nbformat": 4,
 "nbformat_minor": 2
}
